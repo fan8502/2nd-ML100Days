{
 "cells": [
  {
   "cell_type": "markdown",
   "metadata": {},
   "source": [
    "## Work\n",
    "1. 請比較使用不同層數以及不同 Dropout rate 對訓練的效果\n",
    "2. 將 optimizer 改成使用 Adam 並加上適當的 dropout rate 檢視結果"
   ]
  },
  {
   "cell_type": "code",
   "execution_count": 1,
   "metadata": {},
   "outputs": [
    {
     "name": "stderr",
     "output_type": "stream",
     "text": [
      "Using TensorFlow backend.\n"
     ]
    }
   ],
   "source": [
    "import os\n",
    "import keras\n",
    "import itertools"
   ]
  },
  {
   "cell_type": "code",
   "execution_count": 18,
   "metadata": {},
   "outputs": [],
   "source": [
    "train, test = keras.datasets.cifar10.load_data()"
   ]
  },
  {
   "cell_type": "code",
   "execution_count": 19,
   "metadata": {},
   "outputs": [],
   "source": [
    "## 資料前處理\n",
    "def preproc_x(x, flatten=True):\n",
    "    x = x / 255.\n",
    "    if flatten:\n",
    "        x = x.reshape((len(x), -1))\n",
    "    return x\n",
    "\n",
    "def preproc_y(y, num_classes=10):\n",
    "    if y.shape[-1] == 1:\n",
    "        y = keras.utils.to_categorical(y, num_classes)\n",
    "    return y    "
   ]
  },
  {
   "cell_type": "code",
   "execution_count": 20,
   "metadata": {},
   "outputs": [],
   "source": [
    "x_train, y_train = train\n",
    "x_test, y_test = test\n",
    "\n",
    "# Preproc the inputs\n",
    "x_train = preproc_x(x_train)\n",
    "x_test = preproc_x(x_test)\n",
    "\n",
    "# Preprc the outputs\n",
    "y_train = preproc_y(y_train)\n",
    "y_test = preproc_y(y_test)"
   ]
  },
  {
   "cell_type": "code",
   "execution_count": 21,
   "metadata": {},
   "outputs": [],
   "source": [
    "#enumerate()使用:如果對一個列表，既要遍歷索引又要遍曆元素時\n",
    "from keras.layers import Dropout\n",
    "\n",
    "def build_mlp(input_shape, output_units=10, num_neurons=[512, 256, 128], drp_ratio=0.3):\n",
    "    \"\"\"Code Here\n",
    "    建立你的神經網路\n",
    "    \"\"\"\n",
    "    input_layer = keras.layers.Input(input_shape)\n",
    "    for i, n_units in enumerate(num_neurons):\n",
    "        if i == 0:\n",
    "            x = keras.layers.Dense(units=n_units, \n",
    "                                   activation=\"relu\", \n",
    "                                   name=\"hidden_layer\"+str(i+1))(input_layer)\n",
    "            x = Dropout(drp_ratio)(x)\n",
    "        else:\n",
    "            x = keras.layers.Dense(units=n_units, \n",
    "                                   activation=\"relu\", \n",
    "                                   name=\"hidden_layer\"+str(i+1))(x)\n",
    "            x = Dropout(drp_ratio)(x)\n",
    "    \n",
    "    out = keras.layers.Dense(units=output_units, activation=\"softmax\", name=\"output\")(x)\n",
    "    \n",
    "    model = keras.models.Model(inputs=[input_layer], outputs=[out])\n",
    "\n",
    "    return model"
   ]
  },
  {
   "cell_type": "code",
   "execution_count": 22,
   "metadata": {},
   "outputs": [],
   "source": [
    "\"\"\"Code Here\n",
    "設定超參數\n",
    "\"\"\"\n",
    "LEARNING_RATE = 1e-3\n",
    "EPOCHS = 50\n",
    "BATCH_SIZE = 256\n",
    "MOMENTUM = 0.95\n",
    "Dropout_EXP = 0.3"
   ]
  },
  {
   "cell_type": "code",
   "execution_count": 23,
   "metadata": {
    "scrolled": true
   },
   "outputs": [
    {
     "name": "stdout",
     "output_type": "stream",
     "text": [
      "_________________________________________________________________\n",
      "Layer (type)                 Output Shape              Param #   \n",
      "=================================================================\n",
      "input_5 (InputLayer)         (None, 3072)              0         \n",
      "_________________________________________________________________\n",
      "hidden_layer1 (Dense)        (None, 512)               1573376   \n",
      "_________________________________________________________________\n",
      "dropout_4 (Dropout)          (None, 512)               0         \n",
      "_________________________________________________________________\n",
      "hidden_layer2 (Dense)        (None, 256)               131328    \n",
      "_________________________________________________________________\n",
      "dropout_5 (Dropout)          (None, 256)               0         \n",
      "_________________________________________________________________\n",
      "hidden_layer3 (Dense)        (None, 128)               32896     \n",
      "_________________________________________________________________\n",
      "dropout_6 (Dropout)          (None, 128)               0         \n",
      "_________________________________________________________________\n",
      "output (Dense)               (None, 10)                1290      \n",
      "=================================================================\n",
      "Total params: 1,738,890\n",
      "Trainable params: 1,738,890\n",
      "Non-trainable params: 0\n",
      "_________________________________________________________________\n"
     ]
    }
   ],
   "source": [
    "results = {}\n",
    "\"\"\"Code Here\n",
    "撰寫你的訓練流程並將結果用 dictionary 紀錄\n",
    "\"\"\"\n",
    "model = build_mlp(input_shape=x_train.shape[1:], drp_ratio=Dropout_EXP)\n",
    "model.summary()"
   ]
  },
  {
   "cell_type": "code",
   "execution_count": null,
   "metadata": {},
   "outputs": [
    {
     "name": "stdout",
     "output_type": "stream",
     "text": [
      "Train on 50000 samples, validate on 10000 samples\n",
      "Epoch 1/50\n",
      "50000/50000 [==============================] - 10s 206us/step - loss: 2.0713 - acc: 0.2299 - val_loss: 1.8670 - val_acc: 0.3247\n",
      "Epoch 2/50\n",
      "50000/50000 [==============================] - 10s 209us/step - loss: 1.9118 - acc: 0.3024 - val_loss: 1.8032 - val_acc: 0.3585\n",
      "Epoch 3/50\n",
      "50000/50000 [==============================] - 11s 210us/step - loss: 1.8490 - acc: 0.3259 - val_loss: 1.7405 - val_acc: 0.3805\n",
      "Epoch 4/50\n",
      "50000/50000 [==============================] - 10s 196us/step - loss: 1.8246 - acc: 0.3355 - val_loss: 1.7476 - val_acc: 0.3782\n",
      "Epoch 5/50\n",
      "50000/50000 [==============================] - 10s 197us/step - loss: 1.8068 - acc: 0.3426 - val_loss: 1.6988 - val_acc: 0.4039\n",
      "Epoch 6/50\n",
      "50000/50000 [==============================] - 10s 203us/step - loss: 1.7732 - acc: 0.3563 - val_loss: 1.6797 - val_acc: 0.4138\n",
      "Epoch 7/50\n",
      "50000/50000 [==============================] - 10s 200us/step - loss: 1.7635 - acc: 0.3579 - val_loss: 1.6746 - val_acc: 0.4121\n",
      "Epoch 8/50\n",
      "50000/50000 [==============================] - 10s 194us/step - loss: 1.7422 - acc: 0.3702 - val_loss: 1.6651 - val_acc: 0.4147\n",
      "Epoch 9/50\n",
      "50000/50000 [==============================] - 10s 192us/step - loss: 1.7350 - acc: 0.3707 - val_loss: 1.6536 - val_acc: 0.4201\n",
      "Epoch 10/50\n",
      "50000/50000 [==============================] - 10s 192us/step - loss: 1.7291 - acc: 0.3720 - val_loss: 1.6664 - val_acc: 0.4178\n",
      "Epoch 11/50\n",
      "50000/50000 [==============================] - 9s 189us/step - loss: 1.7024 - acc: 0.3840 - val_loss: 1.6211 - val_acc: 0.4303\n",
      "Epoch 12/50\n",
      "50000/50000 [==============================] - 9s 190us/step - loss: 1.7054 - acc: 0.3846 - val_loss: 1.6131 - val_acc: 0.4396\n",
      "Epoch 13/50\n",
      "50000/50000 [==============================] - 9s 190us/step - loss: 1.6887 - acc: 0.3917 - val_loss: 1.6250 - val_acc: 0.4259\n",
      "Epoch 14/50\n",
      "50000/50000 [==============================] - 9s 190us/step - loss: 1.6781 - acc: 0.3953 - val_loss: 1.6036 - val_acc: 0.4402\n",
      "Epoch 15/50\n",
      "50000/50000 [==============================] - 9s 190us/step - loss: 1.6725 - acc: 0.3944 - val_loss: 1.6311 - val_acc: 0.4323\n",
      "Epoch 16/50\n",
      "50000/50000 [==============================] - 9s 189us/step - loss: 1.6709 - acc: 0.3949 - val_loss: 1.6015 - val_acc: 0.4399\n",
      "Epoch 17/50\n",
      "50000/50000 [==============================] - 10s 191us/step - loss: 1.6667 - acc: 0.4001 - val_loss: 1.5801 - val_acc: 0.4429\n",
      "Epoch 18/50\n",
      "50000/50000 [==============================] - 9s 189us/step - loss: 1.6719 - acc: 0.3968 - val_loss: 1.6061 - val_acc: 0.4373\n",
      "Epoch 19/50\n",
      "50000/50000 [==============================] - 9s 189us/step - loss: 1.6524 - acc: 0.4045 - val_loss: 1.5782 - val_acc: 0.4470\n",
      "Epoch 20/50\n",
      "50000/50000 [==============================] - 10s 193us/step - loss: 1.6436 - acc: 0.4092 - val_loss: 1.5879 - val_acc: 0.4402\n",
      "Epoch 21/50\n",
      "50000/50000 [==============================] - 10s 191us/step - loss: 1.6458 - acc: 0.4071 - val_loss: 1.5670 - val_acc: 0.4366\n",
      "Epoch 22/50\n",
      "50000/50000 [==============================] - 10s 190us/step - loss: 1.6435 - acc: 0.4056 - val_loss: 1.5578 - val_acc: 0.4465\n",
      "Epoch 23/50\n",
      "50000/50000 [==============================] - 10s 190us/step - loss: 1.6407 - acc: 0.4060 - val_loss: 1.5578 - val_acc: 0.4491\n",
      "Epoch 24/50\n",
      "50000/50000 [==============================] - 9s 189us/step - loss: 1.6299 - acc: 0.4116 - val_loss: 1.5465 - val_acc: 0.4501\n",
      "Epoch 25/50\n",
      "50000/50000 [==============================] - 10s 192us/step - loss: 1.6240 - acc: 0.4135 - val_loss: 1.5412 - val_acc: 0.4607\n",
      "Epoch 26/50\n",
      "50000/50000 [==============================] - 10s 190us/step - loss: 1.6256 - acc: 0.4146 - val_loss: 1.5425 - val_acc: 0.4574\n",
      "Epoch 27/50\n",
      "50000/50000 [==============================] - 9s 189us/step - loss: 1.6213 - acc: 0.4144 - val_loss: 1.5596 - val_acc: 0.4596\n",
      "Epoch 28/50\n",
      "50000/50000 [==============================] - 10s 192us/step - loss: 1.6146 - acc: 0.4190 - val_loss: 1.5409 - val_acc: 0.4621\n",
      "Epoch 29/50\n",
      "50000/50000 [==============================] - 10s 192us/step - loss: 1.6102 - acc: 0.4210 - val_loss: 1.5462 - val_acc: 0.4611\n",
      "Epoch 30/50\n",
      "50000/50000 [==============================] - 10s 190us/step - loss: 1.6097 - acc: 0.4193 - val_loss: 1.5759 - val_acc: 0.4495\n",
      "Epoch 31/50\n",
      "50000/50000 [==============================] - 10s 196us/step - loss: 1.6042 - acc: 0.4205 - val_loss: 1.5588 - val_acc: 0.4580\n",
      "Epoch 32/50\n",
      "50000/50000 [==============================] - 10s 194us/step - loss: 1.6055 - acc: 0.4243 - val_loss: 1.5231 - val_acc: 0.4682\n",
      "Epoch 33/50\n",
      "50000/50000 [==============================] - 10s 205us/step - loss: 1.5882 - acc: 0.4271 - val_loss: 1.5265 - val_acc: 0.4650\n",
      "Epoch 34/50\n",
      "50000/50000 [==============================] - 10s 200us/step - loss: 1.5942 - acc: 0.4275 - val_loss: 1.5494 - val_acc: 0.4523\n",
      "Epoch 35/50\n",
      "50000/50000 [==============================] - 10s 194us/step - loss: 1.6008 - acc: 0.4242 - val_loss: 1.5300 - val_acc: 0.4635\n",
      "Epoch 36/50\n",
      "50000/50000 [==============================] - 10s 193us/step - loss: 1.5899 - acc: 0.4289 - val_loss: 1.5435 - val_acc: 0.4594\n",
      "Epoch 37/50\n",
      "50000/50000 [==============================] - 10s 200us/step - loss: 1.5834 - acc: 0.4298 - val_loss: 1.5543 - val_acc: 0.4580\n",
      "Epoch 38/50\n",
      "50000/50000 [==============================] - 10s 191us/step - loss: 1.5876 - acc: 0.4287 - val_loss: 1.5143 - val_acc: 0.4708\n",
      "Epoch 39/50\n",
      "50000/50000 [==============================] - 10s 196us/step - loss: 1.5757 - acc: 0.4328 - val_loss: 1.5436 - val_acc: 0.4556\n",
      "Epoch 40/50\n",
      "50000/50000 [==============================] - 10s 197us/step - loss: 1.5893 - acc: 0.4267 - val_loss: 1.5262 - val_acc: 0.4691\n",
      "Epoch 41/50\n",
      "50000/50000 [==============================] - 11s 213us/step - loss: 1.5866 - acc: 0.4283 - val_loss: 1.5197 - val_acc: 0.4665\n",
      "Epoch 42/50\n",
      "50000/50000 [==============================] - 10s 199us/step - loss: 1.5791 - acc: 0.4314 - val_loss: 1.4940 - val_acc: 0.4732\n",
      "Epoch 43/50\n",
      "50000/50000 [==============================] - 10s 202us/step - loss: 1.5700 - acc: 0.4346 - val_loss: 1.5249 - val_acc: 0.4586\n",
      "Epoch 44/50\n",
      "50000/50000 [==============================] - 10s 197us/step - loss: 1.5788 - acc: 0.4289 - val_loss: 1.5279 - val_acc: 0.4589\n",
      "Epoch 45/50\n",
      "50000/50000 [==============================] - 10s 190us/step - loss: 1.5667 - acc: 0.4365 - val_loss: 1.5116 - val_acc: 0.4725\n",
      "Epoch 46/50\n",
      "50000/50000 [==============================] - 10s 190us/step - loss: 1.5694 - acc: 0.4348 - val_loss: 1.5096 - val_acc: 0.4709loss: 1.569\n",
      "Epoch 47/50\n",
      "50000/50000 [==============================] - 10s 203us/step - loss: 1.5590 - acc: 0.4371 - val_loss: 1.5233 - val_acc: 0.4642\n",
      "Epoch 48/50\n",
      "50000/50000 [==============================] - 10s 202us/step - loss: 1.5657 - acc: 0.4367 - val_loss: 1.5223 - val_acc: 0.4620\n",
      "Epoch 49/50\n",
      "50000/50000 [==============================] - 10s 206us/step - loss: 1.5673 - acc: 0.4338 - val_loss: 1.5207 - val_acc: 0.4617\n",
      "Epoch 50/50\n",
      "47104/50000 [===========================>..] - ETA: 0s - loss: 1.5522 - acc: 0.4408"
     ]
    }
   ],
   "source": [
    "optimizer = keras.optimizers.Adam(lr=LEARNING_RATE)\n",
    "model.compile(loss=\"categorical_crossentropy\", metrics=[\"accuracy\"], optimizer=optimizer)\n",
    "\n",
    "model.fit(x_train, y_train, \n",
    "          epochs=EPOCHS, \n",
    "          batch_size=BATCH_SIZE, \n",
    "          validation_data=(x_test, y_test), \n",
    "          shuffle=True)"
   ]
  },
  {
   "cell_type": "code",
   "execution_count": 15,
   "metadata": {},
   "outputs": [],
   "source": [
    "# Collect results\n",
    "train_loss = model.history.history[\"loss\"]\n",
    "valid_loss = model.history.history[\"val_loss\"]\n",
    "train_acc = model.history.history[\"acc\"]\n",
    "valid_acc = model.history.history[\"val_acc\"]"
   ]
  },
  {
   "cell_type": "code",
   "execution_count": 16,
   "metadata": {},
   "outputs": [
    {
     "data": {
      "image/png": "[encoded data removed]",
      "text/plain": [
       "<Figure size 432x288 with 1 Axes>"
      ]
     },
     "metadata": {
      "needs_background": "light"
     },
     "output_type": "display_data"
    },
    {
     "data": {
      "image/png": "[encoded data removed]",
      "text/plain": [
       "<Figure size 432x288 with 1 Axes>"
      ]
     },
     "metadata": {
      "needs_background": "light"
     },
     "output_type": "display_data"
    }
   ],
   "source": [
    "import matplotlib.pyplot as plt\n",
    "%matplotlib inline\n",
    "\"\"\"Code Here\n",
    "將結果繪出\n",
    "\"\"\"\n",
    "plt.plot(range(len(train_loss)), train_loss, label=\"train loss\")\n",
    "plt.plot(range(len(valid_loss)), valid_loss, label=\"valid loss\")\n",
    "plt.legend()\n",
    "plt.title(\"Loss\")\n",
    "plt.show()\n",
    "\n",
    "plt.plot(range(len(train_acc)), train_acc, label=\"train accuracy\")\n",
    "plt.plot(range(len(valid_acc)), valid_acc, label=\"valid accuracy\")\n",
    "plt.legend()\n",
    "plt.title(\"Accuracy\")\n",
    "plt.show()\n"
   ]
  },
  {
   "cell_type": "code",
   "execution_count": null,
   "metadata": {},
   "outputs": [],
   "source": []
  }
 ],
 "metadata": {
  "kernelspec": {
   "display_name": "Python 3",
   "language": "python",
   "name": "python3"
  },
  "language_info": {
   "codemirror_mode": {
    "name": "ipython",
    "version": 3
   },
   "file_extension": ".py",
   "mimetype": "text/x-python",
   "name": "python",
   "nbconvert_exporter": "python",
   "pygments_lexer": "ipython3",
   "version": "3.6.5"
  }
 },
 "nbformat": 4,
 "nbformat_minor": 2
}
